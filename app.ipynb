{
 "cells": [
  {
   "cell_type": "code",
   "execution_count": 8,
   "metadata": {},
   "outputs": [],
   "source": [
    "from utils import *"
   ]
  },
  {
   "cell_type": "code",
   "execution_count": 9,
   "metadata": {},
   "outputs": [],
   "source": [
    "pdf_path = \"/Users/mitulgarg/Desktop/Mitul/Github Projects/FlowChartRAG/Flowchart-RAG/Codes_and_Flowcharts_Dataset.pdf\"\n",
    "output_folder = \"extracted_data\""
   ]
  },
  {
   "cell_type": "code",
   "execution_count": 10,
   "metadata": {},
   "outputs": [
    {
     "name": "stdout",
     "output_type": "stream",
     "text": [
      "Saved image: extracted_data/image_1.jpeg\n",
      "Saved corresponding code: extracted_data/code_1.txt\n",
      "Saved image: extracted_data/image_2.jpeg\n",
      "Saved corresponding code: extracted_data/code_2.txt\n",
      "Saved image: extracted_data/image_3.jpeg\n",
      "Saved corresponding code: extracted_data/code_3.txt\n",
      "Saved image: extracted_data/image_4.jpeg\n",
      "Saved corresponding code: extracted_data/code_4.txt\n",
      "Saved image: extracted_data/image_5.jpeg\n",
      "Saved corresponding code: extracted_data/code_5.txt\n",
      "Saved image: extracted_data/image_6.jpeg\n",
      "Saved corresponding code: extracted_data/code_6.txt\n",
      "Saved image: extracted_data/image_7.jpeg\n",
      "Saved corresponding code: extracted_data/code_7.txt\n",
      "Saved image: extracted_data/image_8.jpeg\n",
      "Saved corresponding code: extracted_data/code_8.txt\n",
      "Extraction complete! Files saved in: extracted_data\n"
     ]
    }
   ],
   "source": [
    "extract_images_and_code(pdf_path, output_folder)"
   ]
  },
  {
   "cell_type": "code",
   "execution_count": 11,
   "metadata": {},
   "outputs": [
    {
     "name": "stdout",
     "output_type": "stream",
     "text": [
      "Embedding already exists for image_6.jpeg. Skipping addition.\n",
      "Embedding already exists for image_7.jpeg. Skipping addition.\n",
      "Embedding already exists for image_1.jpeg. Skipping addition.\n",
      "Embedding already exists for image_2.jpeg. Skipping addition.\n",
      "Embedding already exists for image_3.jpeg. Skipping addition.\n",
      "Embedding already exists for image_8.jpeg. Skipping addition.\n",
      "Embedding already exists for image_4.jpeg. Skipping addition.\n",
      "Embedding already exists for image_5.jpeg. Skipping addition.\n",
      "Vector database populated successfully!\n"
     ]
    }
   ],
   "source": [
    "create_vectordb(output_folder)"
   ]
  },
  {
   "cell_type": "code",
   "execution_count": 12,
   "metadata": {},
   "outputs": [
    {
     "data": {
      "image/jpeg": "[encoded data removed]",
      "text/plain": [
       "<IPython.core.display.Image object>"
      ]
     },
     "metadata": {},
     "output_type": "display_data"
    },
    {
     "name": "stdout",
     "output_type": "stream",
     "text": [
      "Image Description and Code:\n",
      "CODE: //Selection sort\n",
      "#include<stdio.h>\n",
      "#include<conio.h>\n",
      "#define MAX 100\n",
      "void main()\n",
      "{\n",
      "int data[MAX];\n",
      "int i, j, temp, size, sort;\n",
      "clrscr();\n",
      "printf(“Enter the size of the Array. n”);\n",
      "scanf(“%d”, &size);\n",
      "printf(“Size of the Array : %d n”, size);\n",
      "printf(“Enter elements of Array: n”);\n",
      "for(i=0; i<size; i++)\n",
      "scanf(“%d”, &data[i]);\n",
      "printf(“Array is as follows: n”);\n",
      "for(i=0; i<size; i++)\n",
      "printf(“%d t”, data[i]);\n",
      "printf(“n 1. Sort in Ascending n 2. sort in Descending n”);\n",
      "printf(“Enter your choice: “);\n",
      "scanf(“%d”, &sort);\n",
      "if(sort==1)\n",
      "{\n",
      "for(i=0; i<size; i++)\n",
      "{\n",
      "for(j=i+1; j<size; j++)\n",
      "{\n",
      "if(data[i]>data[j])\n",
      "{\n",
      "temp=data[i];\n",
      "data[i]=data[j];\n",
      "data[j]=temp;\n",
      "}\n",
      "}\n",
      "}\n",
      "}\n",
      "if(sort==2)\n",
      "{\n",
      "for(i=0; i<size; i++)\n",
      "{\n",
      "for(j=i+1; j<size; j++)\n",
      "{\n",
      "if(data[i]<data[j])\n",
      "{\n",
      "temp=data[i];\n",
      "data[i]=data[j];\n",
      "data[j]=temp;\n",
      "}\n",
      "}\n",
      "}\n",
      "}\n",
      "printf(“n”);\n",
      "printf(“After Sorting Array is as follows: n”);\n",
      "for(i=0; i<size; i++)\n",
      "printf(” %d t”,data[i]);\n",
      "getch();\n",
      "}\n",
      "CORRESPONDING FLOWCHART IMAGE: \n",
      "# Description:\n",
      "This image is a flowchart illustrating the selection sort algorithm. The process begins with the \"Start\" symbol and moves to reading a data array `DATA[1:N]`. The initial index `i` is set to 1. It then checks if `i` is greater than `N`, where `N` is the size of the data array. If `i` is not greater, it proceeds with the sorting process.\n",
      "\n",
      "The inner loop starts by setting `j` to `i + 1` and checks if `j` is less than or equal to `N`. If true, it compares elements `DATA[i]` and `DATA[j]`. If `DATA[j]` is greater than `DATA[i]`, a swap occurs: the element at `DATA[i]` is stored temporarily, and then the values of `DATA[i]` and `DATA[j]` are exchanged.\n",
      "\n",
      "The flow continues with incrementing `j` by 1, cycling through the inner loop, and once `j` exceeds `N`, `i` is incremented by 1. This process repeats until `i` exceeds `N`, at which point the sorted data array `DATA[1:N]` is printed, and the operation stops. The flowchart effectively represents the iterative nature of the selection sort algorithm, emphasizing the nested loop structure and the comparison and swapping steps inherent to its logic.\n",
      "\n"
     ]
    }
   ],
   "source": [
    "query = \"How do I do selection sort?\"\n",
    "query_flowchart(query, output_folder)"
   ]
  },
  {
   "cell_type": "code",
   "execution_count": 13,
   "metadata": {},
   "outputs": [
    {
     "name": "stdout",
     "output_type": "stream",
     "text": [
      "\n",
      "\n",
      "\n",
      "----FLOWCHART-CODE----\n",
      "flowchart TD\n",
      "    A(Start) --> B{Enter size of the Array}\n",
      "    B --> C(Initialize Data Array: DATA[0:MAX-1])\n",
      "    C --> D{Input Array Elements}\n",
      "    D --> E(Enter elements of Array)\n",
      "    E --> F{Choose Sorting Order}\n",
      "    F --> G[\"1. Sort in Ascending\"]\n",
      "    F --> H[\"2. Sort in Descending\"]\n",
      "    G --> I{For i from 0 to size-1}\n",
      "    H --> N{For i from 0 to size-1}\n",
      "    I --> J{For j from i+1 to size-1}\n",
      "    N --> O{For j from i+1 to size-1}\n",
      "    J --> K{DATA[i] > DATA[j]?}\n",
      "    O --> P{DATA[i] < DATA[j]?}\n",
      "    K -->|Yes| L(Swap DATA[i] and DATA[j])\n",
      "    P -->|Yes| Q(Swap DATA[i] and DATA[j])\n",
      "    L --> J\n",
      "    Q --> O\n",
      "    K -->|No| J\n",
      "    P -->|No| O\n",
      "    J -->|No| I\n",
      "    O -->|No| N\n",
      "    I -->|No| R(Display Sorted Array)\n",
      "    N -->|No| R\n",
      "    R --> S(End)\n",
      "----------END-----------\n",
      "Flowchart saved as 'generated_flowchart.html'. Open it in a browser to view.\n"
     ]
    }
   ],
   "source": [
    "\n",
    "print()\n",
    "llm_prompt = query_flowchart_for_prompt(query, output_folder)\n",
    "print()\n",
    "flowchart_code = generate_flowchart(llm_prompt)\n",
    "render_mermaid(flowchart_code)"
   ]
  }
 ],
 "metadata": {
  "kernelspec": {
   "display_name": "Python 3",
   "language": "python",
   "name": "python3"
  },
  "language_info": {
   "codemirror_mode": {
    "name": "ipython",
    "version": 3
   },
   "file_extension": ".py",
   "mimetype": "text/x-python",
   "name": "python",
   "nbconvert_exporter": "python",
   "pygments_lexer": "ipython3",
   "version": "3.11.11"
  }
 },
 "nbformat": 4,
 "nbformat_minor": 2
}
